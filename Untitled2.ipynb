{
  "nbformat": 4,
  "nbformat_minor": 0,
  "metadata": {
    "colab": {
      "provenance": []
    },
    "kernelspec": {
      "name": "python3",
      "display_name": "Python 3"
    },
    "language_info": {
      "name": "python"
    }
  },
  "cells": [
    {
      "cell_type": "code",
      "execution_count": 1,
      "metadata": {
        "id": "mZ3Y3WO6_CSW",
        "colab": {
          "base_uri": "https://localhost:8080/"
        },
        "outputId": "5a2522ac-43e4-4be8-a57c-328250995678"
      },
      "outputs": [
        {
          "output_type": "stream",
          "name": "stdout",
          "text": [
            "hi\n"
          ]
        }
      ],
      "source": [
        "print(\"hi\")"
      ]
    },
    {
      "cell_type": "code",
      "source": [],
      "metadata": {
        "id": "_jDglr1P_DIO"
      },
      "execution_count": null,
      "outputs": []
    },
    {
      "cell_type": "markdown",
      "source": [
        "Practical 1"
      ],
      "metadata": {
        "id": "1RfHcAX6_Diw"
      }
    },
    {
      "cell_type": "markdown",
      "source": [
        "Pract1# New Section"
      ],
      "metadata": {
        "id": "2VRPxZf7_Qlk"
      }
    },
    {
      "cell_type": "markdown",
      "source": [
        "# New Section"
      ],
      "metadata": {
        "id": "_dC7QHbm_frI"
      }
    }
  ]
}